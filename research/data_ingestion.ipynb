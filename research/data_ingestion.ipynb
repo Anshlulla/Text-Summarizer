{
 "cells": [
  {
   "cell_type": "code",
   "execution_count": 1,
   "id": "2c27f427",
   "metadata": {},
   "outputs": [],
   "source": [
    "import os"
   ]
  },
  {
   "cell_type": "code",
   "execution_count": 2,
   "id": "adb41053",
   "metadata": {},
   "outputs": [
    {
     "data": {
      "text/plain": [
       "'c:\\\\Users\\\\Ansh Lulla\\\\VS-Code\\\\MLOps\\\\16-End-to-end-Fine-Tuning\\\\research'"
      ]
     },
     "execution_count": 2,
     "metadata": {},
     "output_type": "execute_result"
    }
   ],
   "source": [
    "os.getcwd()"
   ]
  },
  {
   "cell_type": "code",
   "execution_count": 3,
   "id": "9e802772",
   "metadata": {},
   "outputs": [
    {
     "data": {
      "text/plain": [
       "'c:\\\\Users\\\\Ansh Lulla\\\\VS-Code\\\\MLOps\\\\16-End-to-end-Fine-Tuning'"
      ]
     },
     "execution_count": 3,
     "metadata": {},
     "output_type": "execute_result"
    }
   ],
   "source": [
    "os.chdir(\"../\")\n",
    "os.getcwd()"
   ]
  },
  {
   "cell_type": "code",
   "execution_count": 17,
   "id": "3d0dd181",
   "metadata": {},
   "outputs": [],
   "source": [
    "from src.textSummarizer.logging import logging\n",
    "from dataclasses import dataclass\n",
    "from pathlib import Path\n",
    "from src.textSummarizer.constants import CONFIG_FILE_PATH, PARAMS_FILE_PATH\n",
    "from src.textSummarizer.utils.common import read_yaml, create_directories"
   ]
  },
  {
   "cell_type": "code",
   "execution_count": 25,
   "id": "9a8b94cd",
   "metadata": {},
   "outputs": [
    {
     "name": "stdout",
     "output_type": "stream",
     "text": [
      "Config path: config\\config.yaml\n",
      "Exists: True\n"
     ]
    }
   ],
   "source": [
    "print(\"Config path:\", CONFIG_FILE_PATH)\n",
    "print(\"Exists:\", CONFIG_FILE_PATH.exists())"
   ]
  },
  {
   "cell_type": "code",
   "execution_count": 22,
   "id": "0185bcc0",
   "metadata": {},
   "outputs": [
    {
     "name": "stdout",
     "output_type": "stream",
     "text": [
      "[2025-06-28 03:40:51,181: INFO: common: yaml file: config\\config.yaml loaded successfully]\n"
     ]
    },
    {
     "data": {
      "text/plain": [
       "'artifacts'"
      ]
     },
     "execution_count": 22,
     "metadata": {},
     "output_type": "execute_result"
    }
   ],
   "source": [
    "contents = read_yaml(CONFIG_FILE_PATH)\n",
    "contents.artifacts_root"
   ]
  },
  {
   "cell_type": "code",
   "execution_count": 19,
   "id": "b9585a69",
   "metadata": {},
   "outputs": [],
   "source": [
    "@dataclass\n",
    "class DataIngestionConfig:\n",
    "  root_dir: Path\n",
    "  source_URL: Path\n",
    "  local_data_file: Path\n",
    "  unzip_dir: Path"
   ]
  },
  {
   "cell_type": "code",
   "execution_count": 49,
   "id": "ffef3d87",
   "metadata": {},
   "outputs": [],
   "source": [
    "class ConfigurationManager:\n",
    "    def __init__(self, config_path=CONFIG_FILE_PATH, params_path=PARAMS_FILE_PATH):\n",
    "        self.config = read_yaml(config_path)\n",
    "        self.params = read_yaml(params_path)\n",
    "        \n",
    "        create_directories([self.config.artifacts_root])\n",
    "    \n",
    "    def get_data_ingestion_config(self) -> DataIngestionConfig:\n",
    "        config = self.config.data_ingestion\n",
    "        create_directories([config.root_dir])\n",
    "\n",
    "        data_ingestion_config = DataIngestionConfig(\n",
    "            root_dir=config.root_dir,\n",
    "            source_URL=config.source_URL,\n",
    "            local_data_file=config.local_data_file,\n",
    "            unzip_dir=config.unzip_dir\n",
    "        )\n",
    "\n",
    "        return data_ingestion_config"
   ]
  },
  {
   "cell_type": "code",
   "execution_count": 50,
   "id": "3c5f0246",
   "metadata": {},
   "outputs": [],
   "source": [
    "import urllib.request as request\n",
    "import zipfile\n",
    "from src.textSummarizer.logging import logger"
   ]
  },
  {
   "cell_type": "code",
   "execution_count": 51,
   "id": "17c543e5",
   "metadata": {},
   "outputs": [],
   "source": [
    "class DataIngestion:\n",
    "    def __init__(self, config: DataIngestionConfig):\n",
    "        self.config = config\n",
    "    \n",
    "    def download_file(self):\n",
    "        if not os.path.exists(self.config.local_data_file):\n",
    "            filename, headers = request.urlretrieve(\n",
    "                url=self.config.source_URL,\n",
    "                filename=self.config.local_data_file\n",
    "            )\n",
    "            logger.info(f\"{filename} has been downloaded successfully\")\n",
    "        else:\n",
    "            logger.info(f\"File already exists\")\n",
    "    \n",
    "    def unzip_file(self):\n",
    "        unzip_dir = self.config.unzip_dir\n",
    "        os.makedirs(unzip_dir, exist_ok=True)\n",
    "\n",
    "        with zipfile.ZipFile(self.config.local_data_file, \"r\") as file:\n",
    "            file.extractall(unzip_dir)"
   ]
  },
  {
   "cell_type": "code",
   "execution_count": 52,
   "id": "f161df6c",
   "metadata": {},
   "outputs": [
    {
     "name": "stdout",
     "output_type": "stream",
     "text": [
      "[2025-06-28 04:05:14,594: INFO: common: yaml file: config\\config.yaml loaded successfully]\n",
      "[2025-06-28 04:05:14,596: INFO: common: yaml file: params.yaml loaded successfully]\n",
      "[2025-06-28 04:05:14,597: INFO: common: Created Directory at: artifacts]\n",
      "[2025-06-28 04:05:14,599: INFO: common: Created Directory at: artifacts/data_ingestion]\n",
      "[2025-06-28 04:05:19,280: INFO: 3276253235: artifacts/data_ingestion/data.zip has been downloaded successfully]\n"
     ]
    }
   ],
   "source": [
    "config = ConfigurationManager()\n",
    "data_ingestion_config = config.get_data_ingestion_config()\n",
    "data_ingestion = DataIngestion(data_ingestion_config)\n",
    "data_ingestion.download_file()\n",
    "data_ingestion.unzip_file()"
   ]
  },
  {
   "cell_type": "code",
   "execution_count": null,
   "id": "e63b0536",
   "metadata": {},
   "outputs": [],
   "source": []
  }
 ],
 "metadata": {
  "kernelspec": {
   "display_name": "Python 3",
   "language": "python",
   "name": "python3"
  },
  "language_info": {
   "codemirror_mode": {
    "name": "ipython",
    "version": 3
   },
   "file_extension": ".py",
   "mimetype": "text/x-python",
   "name": "python",
   "nbconvert_exporter": "python",
   "pygments_lexer": "ipython3",
   "version": "3.12.0"
  }
 },
 "nbformat": 4,
 "nbformat_minor": 5
}
